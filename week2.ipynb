{
  "nbformat": 4,
  "nbformat_minor": 0,
  "metadata": {
    "colab": {
      "provenance": [],
      "authorship_tag": "ABX9TyPaVO6JZ+1rWC+8H96PzsW2",
      "include_colab_link": true
    },
    "kernelspec": {
      "name": "python3",
      "display_name": "Python 3"
    },
    "language_info": {
      "name": "python"
    }
  },
  "cells": [
    {
      "cell_type": "markdown",
      "metadata": {
        "id": "view-in-github",
        "colab_type": "text"
      },
      "source": [
        "<a href=\"https://colab.research.google.com/github/KEMAL-MUDIE/Data-visualization-and-analysis-MA5755-at-IIT-Madras/blob/main/week2.ipynb\" target=\"_parent\"><img src=\"https://colab.research.google.com/assets/colab-badge.svg\" alt=\"Open In Colab\"/></a>"
      ]
    },
    {
      "cell_type": "markdown",
      "source": [
        "Name: Kemal Mudie Tosora  \n",
        "ID : GE22M010 \n",
        "\n",
        "Course: M.Tech  Data Science\n",
        "\n",
        "Subject: Data Analysis & Visualization (MA5755)\n",
        "\n",
        "Week 2 Assignment"
      ],
      "metadata": {
        "id": "OYX1Vpf02gBS"
      }
    },
    {
      "cell_type": "code",
      "execution_count": 3,
      "metadata": {
        "id": "t47-22pGw8L0"
      },
      "outputs": [],
      "source": [
        "import pandas as pd\n",
        "\n",
        "import numpy as np\n",
        "import matplotlib.pyplot as plt\n",
        "from sklearn.linear_model import LinearRegression\n",
        "from sklearn import metrics"
      ]
    },
    {
      "cell_type": "code",
      "source": [
        "# SBI stock listed in NSE data for last 5 years.\n",
        "data=pd.read_csv(\"/content/last_f_SBIN.NS.csv\")"
      ],
      "metadata": {
        "id": "tibGQdkBxHpx"
      },
      "execution_count": 4,
      "outputs": []
    },
    {
      "cell_type": "code",
      "source": [
        "data.head(5)"
      ],
      "metadata": {
        "colab": {
          "base_uri": "https://localhost:8080/",
          "height": 206
        },
        "id": "HM4t7XAexb8-",
        "outputId": "a5e077f4-4522-4333-d985-79af5eefee3f"
      },
      "execution_count": 5,
      "outputs": [
        {
          "output_type": "execute_result",
          "data": {
            "text/plain": [
              "         Date        Open        High         Low       Close   Adj Close  \\\n",
              "0  2018-01-29  313.149994  316.899994  311.000000  312.100006  304.492920   \n",
              "1  2018-01-30  312.049988  318.850006  311.000000  313.549988  305.907562   \n",
              "2  2018-01-31  313.000000  316.600006  307.850006  313.250000  305.614899   \n",
              "3  2018-02-01  316.899994  317.399994  305.000000  306.049988  298.590393   \n",
              "4  2018-02-02  302.899994  305.750000  295.500000  297.350006  290.102448   \n",
              "\n",
              "     Volume  \n",
              "0  23600898  \n",
              "1  25810404  \n",
              "2  16409938  \n",
              "3  19515991  \n",
              "4  23274673  "
            ],
            "text/html": [
              "\n",
              "  <div id=\"df-7099f758-274a-4696-a39e-0f1611e7ac1d\">\n",
              "    <div class=\"colab-df-container\">\n",
              "      <div>\n",
              "<style scoped>\n",
              "    .dataframe tbody tr th:only-of-type {\n",
              "        vertical-align: middle;\n",
              "    }\n",
              "\n",
              "    .dataframe tbody tr th {\n",
              "        vertical-align: top;\n",
              "    }\n",
              "\n",
              "    .dataframe thead th {\n",
              "        text-align: right;\n",
              "    }\n",
              "</style>\n",
              "<table border=\"1\" class=\"dataframe\">\n",
              "  <thead>\n",
              "    <tr style=\"text-align: right;\">\n",
              "      <th></th>\n",
              "      <th>Date</th>\n",
              "      <th>Open</th>\n",
              "      <th>High</th>\n",
              "      <th>Low</th>\n",
              "      <th>Close</th>\n",
              "      <th>Adj Close</th>\n",
              "      <th>Volume</th>\n",
              "    </tr>\n",
              "  </thead>\n",
              "  <tbody>\n",
              "    <tr>\n",
              "      <th>0</th>\n",
              "      <td>2018-01-29</td>\n",
              "      <td>313.149994</td>\n",
              "      <td>316.899994</td>\n",
              "      <td>311.000000</td>\n",
              "      <td>312.100006</td>\n",
              "      <td>304.492920</td>\n",
              "      <td>23600898</td>\n",
              "    </tr>\n",
              "    <tr>\n",
              "      <th>1</th>\n",
              "      <td>2018-01-30</td>\n",
              "      <td>312.049988</td>\n",
              "      <td>318.850006</td>\n",
              "      <td>311.000000</td>\n",
              "      <td>313.549988</td>\n",
              "      <td>305.907562</td>\n",
              "      <td>25810404</td>\n",
              "    </tr>\n",
              "    <tr>\n",
              "      <th>2</th>\n",
              "      <td>2018-01-31</td>\n",
              "      <td>313.000000</td>\n",
              "      <td>316.600006</td>\n",
              "      <td>307.850006</td>\n",
              "      <td>313.250000</td>\n",
              "      <td>305.614899</td>\n",
              "      <td>16409938</td>\n",
              "    </tr>\n",
              "    <tr>\n",
              "      <th>3</th>\n",
              "      <td>2018-02-01</td>\n",
              "      <td>316.899994</td>\n",
              "      <td>317.399994</td>\n",
              "      <td>305.000000</td>\n",
              "      <td>306.049988</td>\n",
              "      <td>298.590393</td>\n",
              "      <td>19515991</td>\n",
              "    </tr>\n",
              "    <tr>\n",
              "      <th>4</th>\n",
              "      <td>2018-02-02</td>\n",
              "      <td>302.899994</td>\n",
              "      <td>305.750000</td>\n",
              "      <td>295.500000</td>\n",
              "      <td>297.350006</td>\n",
              "      <td>290.102448</td>\n",
              "      <td>23274673</td>\n",
              "    </tr>\n",
              "  </tbody>\n",
              "</table>\n",
              "</div>\n",
              "      <button class=\"colab-df-convert\" onclick=\"convertToInteractive('df-7099f758-274a-4696-a39e-0f1611e7ac1d')\"\n",
              "              title=\"Convert this dataframe to an interactive table.\"\n",
              "              style=\"display:none;\">\n",
              "        \n",
              "  <svg xmlns=\"http://www.w3.org/2000/svg\" height=\"24px\"viewBox=\"0 0 24 24\"\n",
              "       width=\"24px\">\n",
              "    <path d=\"M0 0h24v24H0V0z\" fill=\"none\"/>\n",
              "    <path d=\"M18.56 5.44l.94 2.06.94-2.06 2.06-.94-2.06-.94-.94-2.06-.94 2.06-2.06.94zm-11 1L8.5 8.5l.94-2.06 2.06-.94-2.06-.94L8.5 2.5l-.94 2.06-2.06.94zm10 10l.94 2.06.94-2.06 2.06-.94-2.06-.94-.94-2.06-.94 2.06-2.06.94z\"/><path d=\"M17.41 7.96l-1.37-1.37c-.4-.4-.92-.59-1.43-.59-.52 0-1.04.2-1.43.59L10.3 9.45l-7.72 7.72c-.78.78-.78 2.05 0 2.83L4 21.41c.39.39.9.59 1.41.59.51 0 1.02-.2 1.41-.59l7.78-7.78 2.81-2.81c.8-.78.8-2.07 0-2.86zM5.41 20L4 18.59l7.72-7.72 1.47 1.35L5.41 20z\"/>\n",
              "  </svg>\n",
              "      </button>\n",
              "      \n",
              "  <style>\n",
              "    .colab-df-container {\n",
              "      display:flex;\n",
              "      flex-wrap:wrap;\n",
              "      gap: 12px;\n",
              "    }\n",
              "\n",
              "    .colab-df-convert {\n",
              "      background-color: #E8F0FE;\n",
              "      border: none;\n",
              "      border-radius: 50%;\n",
              "      cursor: pointer;\n",
              "      display: none;\n",
              "      fill: #1967D2;\n",
              "      height: 32px;\n",
              "      padding: 0 0 0 0;\n",
              "      width: 32px;\n",
              "    }\n",
              "\n",
              "    .colab-df-convert:hover {\n",
              "      background-color: #E2EBFA;\n",
              "      box-shadow: 0px 1px 2px rgba(60, 64, 67, 0.3), 0px 1px 3px 1px rgba(60, 64, 67, 0.15);\n",
              "      fill: #174EA6;\n",
              "    }\n",
              "\n",
              "    [theme=dark] .colab-df-convert {\n",
              "      background-color: #3B4455;\n",
              "      fill: #D2E3FC;\n",
              "    }\n",
              "\n",
              "    [theme=dark] .colab-df-convert:hover {\n",
              "      background-color: #434B5C;\n",
              "      box-shadow: 0px 1px 3px 1px rgba(0, 0, 0, 0.15);\n",
              "      filter: drop-shadow(0px 1px 2px rgba(0, 0, 0, 0.3));\n",
              "      fill: #FFFFFF;\n",
              "    }\n",
              "  </style>\n",
              "\n",
              "      <script>\n",
              "        const buttonEl =\n",
              "          document.querySelector('#df-7099f758-274a-4696-a39e-0f1611e7ac1d button.colab-df-convert');\n",
              "        buttonEl.style.display =\n",
              "          google.colab.kernel.accessAllowed ? 'block' : 'none';\n",
              "\n",
              "        async function convertToInteractive(key) {\n",
              "          const element = document.querySelector('#df-7099f758-274a-4696-a39e-0f1611e7ac1d');\n",
              "          const dataTable =\n",
              "            await google.colab.kernel.invokeFunction('convertToInteractive',\n",
              "                                                     [key], {});\n",
              "          if (!dataTable) return;\n",
              "\n",
              "          const docLinkHtml = 'Like what you see? Visit the ' +\n",
              "            '<a target=\"_blank\" href=https://colab.research.google.com/notebooks/data_table.ipynb>data table notebook</a>'\n",
              "            + ' to learn more about interactive tables.';\n",
              "          element.innerHTML = '';\n",
              "          dataTable['output_type'] = 'display_data';\n",
              "          await google.colab.output.renderOutput(dataTable, element);\n",
              "          const docLink = document.createElement('div');\n",
              "          docLink.innerHTML = docLinkHtml;\n",
              "          element.appendChild(docLink);\n",
              "        }\n",
              "      </script>\n",
              "    </div>\n",
              "  </div>\n",
              "  "
            ]
          },
          "metadata": {},
          "execution_count": 5
        }
      ]
    },
    {
      "cell_type": "code",
      "source": [
        "data['Date']=pd.to_datetime(data.Date)"
      ],
      "metadata": {
        "id": "b_GyxX0K1Q9Y"
      },
      "execution_count": 6,
      "outputs": []
    },
    {
      "cell_type": "code",
      "source": [
        "data.shape"
      ],
      "metadata": {
        "colab": {
          "base_uri": "https://localhost:8080/"
        },
        "id": "EFch-WCN8TOX",
        "outputId": "ee57b5d6-c649-412c-c507-31ad77337d40"
      },
      "execution_count": 7,
      "outputs": [
        {
          "output_type": "execute_result",
          "data": {
            "text/plain": [
              "(1236, 7)"
            ]
          },
          "metadata": {},
          "execution_count": 7
        }
      ]
    },
    {
      "cell_type": "code",
      "source": [
        "data.info()"
      ],
      "metadata": {
        "colab": {
          "base_uri": "https://localhost:8080/"
        },
        "id": "SwjMJ0bN8WEu",
        "outputId": "2d419bd9-1bfb-48a0-faa9-60ae9ed48768"
      },
      "execution_count": 8,
      "outputs": [
        {
          "output_type": "stream",
          "name": "stdout",
          "text": [
            "<class 'pandas.core.frame.DataFrame'>\n",
            "RangeIndex: 1236 entries, 0 to 1235\n",
            "Data columns (total 7 columns):\n",
            " #   Column     Non-Null Count  Dtype         \n",
            "---  ------     --------------  -----         \n",
            " 0   Date       1236 non-null   datetime64[ns]\n",
            " 1   Open       1236 non-null   float64       \n",
            " 2   High       1236 non-null   float64       \n",
            " 3   Low        1236 non-null   float64       \n",
            " 4   Close      1236 non-null   float64       \n",
            " 5   Adj Close  1236 non-null   float64       \n",
            " 6   Volume     1236 non-null   int64         \n",
            "dtypes: datetime64[ns](1), float64(5), int64(1)\n",
            "memory usage: 67.7 KB\n"
          ]
        }
      ]
    },
    {
      "cell_type": "code",
      "source": [
        "data.describe()"
      ],
      "metadata": {
        "colab": {
          "base_uri": "https://localhost:8080/",
          "height": 300
        },
        "id": "n5Tub0dV8nuF",
        "outputId": "09dad6dc-008d-4242-a7d9-8d0836d03112"
      },
      "execution_count": 9,
      "outputs": [
        {
          "output_type": "execute_result",
          "data": {
            "text/plain": [
              "              Open         High          Low        Close    Adj Close  \\\n",
              "count  1236.000000  1236.000000  1236.000000  1236.000000  1236.000000   \n",
              "mean    353.704936   358.298504   348.604652   353.337338   347.391132   \n",
              "std     119.931582   120.666163   119.113496   119.898945   120.843198   \n",
              "min     151.949997   153.199997   149.449997   150.850006   147.173218   \n",
              "25%     267.700012   271.387497   262.787491   267.687508   261.162941   \n",
              "50%     316.200012   321.600006   312.300003   316.875000   309.151550   \n",
              "75%     457.362488   463.700004   451.399994   456.950012   450.962219   \n",
              "max     625.549988   629.549988   617.500000   625.500000   625.500000   \n",
              "\n",
              "             Volume  \n",
              "count  1.236000e+03  \n",
              "mean   3.230582e+07  \n",
              "std    2.547527e+07  \n",
              "min    3.312160e+06  \n",
              "25%    1.529700e+07  \n",
              "50%    2.338269e+07  \n",
              "75%    4.189996e+07  \n",
              "max    2.149557e+08  "
            ],
            "text/html": [
              "\n",
              "  <div id=\"df-350b0d17-5477-4c4d-a709-5c2cb3f0b552\">\n",
              "    <div class=\"colab-df-container\">\n",
              "      <div>\n",
              "<style scoped>\n",
              "    .dataframe tbody tr th:only-of-type {\n",
              "        vertical-align: middle;\n",
              "    }\n",
              "\n",
              "    .dataframe tbody tr th {\n",
              "        vertical-align: top;\n",
              "    }\n",
              "\n",
              "    .dataframe thead th {\n",
              "        text-align: right;\n",
              "    }\n",
              "</style>\n",
              "<table border=\"1\" class=\"dataframe\">\n",
              "  <thead>\n",
              "    <tr style=\"text-align: right;\">\n",
              "      <th></th>\n",
              "      <th>Open</th>\n",
              "      <th>High</th>\n",
              "      <th>Low</th>\n",
              "      <th>Close</th>\n",
              "      <th>Adj Close</th>\n",
              "      <th>Volume</th>\n",
              "    </tr>\n",
              "  </thead>\n",
              "  <tbody>\n",
              "    <tr>\n",
              "      <th>count</th>\n",
              "      <td>1236.000000</td>\n",
              "      <td>1236.000000</td>\n",
              "      <td>1236.000000</td>\n",
              "      <td>1236.000000</td>\n",
              "      <td>1236.000000</td>\n",
              "      <td>1.236000e+03</td>\n",
              "    </tr>\n",
              "    <tr>\n",
              "      <th>mean</th>\n",
              "      <td>353.704936</td>\n",
              "      <td>358.298504</td>\n",
              "      <td>348.604652</td>\n",
              "      <td>353.337338</td>\n",
              "      <td>347.391132</td>\n",
              "      <td>3.230582e+07</td>\n",
              "    </tr>\n",
              "    <tr>\n",
              "      <th>std</th>\n",
              "      <td>119.931582</td>\n",
              "      <td>120.666163</td>\n",
              "      <td>119.113496</td>\n",
              "      <td>119.898945</td>\n",
              "      <td>120.843198</td>\n",
              "      <td>2.547527e+07</td>\n",
              "    </tr>\n",
              "    <tr>\n",
              "      <th>min</th>\n",
              "      <td>151.949997</td>\n",
              "      <td>153.199997</td>\n",
              "      <td>149.449997</td>\n",
              "      <td>150.850006</td>\n",
              "      <td>147.173218</td>\n",
              "      <td>3.312160e+06</td>\n",
              "    </tr>\n",
              "    <tr>\n",
              "      <th>25%</th>\n",
              "      <td>267.700012</td>\n",
              "      <td>271.387497</td>\n",
              "      <td>262.787491</td>\n",
              "      <td>267.687508</td>\n",
              "      <td>261.162941</td>\n",
              "      <td>1.529700e+07</td>\n",
              "    </tr>\n",
              "    <tr>\n",
              "      <th>50%</th>\n",
              "      <td>316.200012</td>\n",
              "      <td>321.600006</td>\n",
              "      <td>312.300003</td>\n",
              "      <td>316.875000</td>\n",
              "      <td>309.151550</td>\n",
              "      <td>2.338269e+07</td>\n",
              "    </tr>\n",
              "    <tr>\n",
              "      <th>75%</th>\n",
              "      <td>457.362488</td>\n",
              "      <td>463.700004</td>\n",
              "      <td>451.399994</td>\n",
              "      <td>456.950012</td>\n",
              "      <td>450.962219</td>\n",
              "      <td>4.189996e+07</td>\n",
              "    </tr>\n",
              "    <tr>\n",
              "      <th>max</th>\n",
              "      <td>625.549988</td>\n",
              "      <td>629.549988</td>\n",
              "      <td>617.500000</td>\n",
              "      <td>625.500000</td>\n",
              "      <td>625.500000</td>\n",
              "      <td>2.149557e+08</td>\n",
              "    </tr>\n",
              "  </tbody>\n",
              "</table>\n",
              "</div>\n",
              "      <button class=\"colab-df-convert\" onclick=\"convertToInteractive('df-350b0d17-5477-4c4d-a709-5c2cb3f0b552')\"\n",
              "              title=\"Convert this dataframe to an interactive table.\"\n",
              "              style=\"display:none;\">\n",
              "        \n",
              "  <svg xmlns=\"http://www.w3.org/2000/svg\" height=\"24px\"viewBox=\"0 0 24 24\"\n",
              "       width=\"24px\">\n",
              "    <path d=\"M0 0h24v24H0V0z\" fill=\"none\"/>\n",
              "    <path d=\"M18.56 5.44l.94 2.06.94-2.06 2.06-.94-2.06-.94-.94-2.06-.94 2.06-2.06.94zm-11 1L8.5 8.5l.94-2.06 2.06-.94-2.06-.94L8.5 2.5l-.94 2.06-2.06.94zm10 10l.94 2.06.94-2.06 2.06-.94-2.06-.94-.94-2.06-.94 2.06-2.06.94z\"/><path d=\"M17.41 7.96l-1.37-1.37c-.4-.4-.92-.59-1.43-.59-.52 0-1.04.2-1.43.59L10.3 9.45l-7.72 7.72c-.78.78-.78 2.05 0 2.83L4 21.41c.39.39.9.59 1.41.59.51 0 1.02-.2 1.41-.59l7.78-7.78 2.81-2.81c.8-.78.8-2.07 0-2.86zM5.41 20L4 18.59l7.72-7.72 1.47 1.35L5.41 20z\"/>\n",
              "  </svg>\n",
              "      </button>\n",
              "      \n",
              "  <style>\n",
              "    .colab-df-container {\n",
              "      display:flex;\n",
              "      flex-wrap:wrap;\n",
              "      gap: 12px;\n",
              "    }\n",
              "\n",
              "    .colab-df-convert {\n",
              "      background-color: #E8F0FE;\n",
              "      border: none;\n",
              "      border-radius: 50%;\n",
              "      cursor: pointer;\n",
              "      display: none;\n",
              "      fill: #1967D2;\n",
              "      height: 32px;\n",
              "      padding: 0 0 0 0;\n",
              "      width: 32px;\n",
              "    }\n",
              "\n",
              "    .colab-df-convert:hover {\n",
              "      background-color: #E2EBFA;\n",
              "      box-shadow: 0px 1px 2px rgba(60, 64, 67, 0.3), 0px 1px 3px 1px rgba(60, 64, 67, 0.15);\n",
              "      fill: #174EA6;\n",
              "    }\n",
              "\n",
              "    [theme=dark] .colab-df-convert {\n",
              "      background-color: #3B4455;\n",
              "      fill: #D2E3FC;\n",
              "    }\n",
              "\n",
              "    [theme=dark] .colab-df-convert:hover {\n",
              "      background-color: #434B5C;\n",
              "      box-shadow: 0px 1px 3px 1px rgba(0, 0, 0, 0.15);\n",
              "      filter: drop-shadow(0px 1px 2px rgba(0, 0, 0, 0.3));\n",
              "      fill: #FFFFFF;\n",
              "    }\n",
              "  </style>\n",
              "\n",
              "      <script>\n",
              "        const buttonEl =\n",
              "          document.querySelector('#df-350b0d17-5477-4c4d-a709-5c2cb3f0b552 button.colab-df-convert');\n",
              "        buttonEl.style.display =\n",
              "          google.colab.kernel.accessAllowed ? 'block' : 'none';\n",
              "\n",
              "        async function convertToInteractive(key) {\n",
              "          const element = document.querySelector('#df-350b0d17-5477-4c4d-a709-5c2cb3f0b552');\n",
              "          const dataTable =\n",
              "            await google.colab.kernel.invokeFunction('convertToInteractive',\n",
              "                                                     [key], {});\n",
              "          if (!dataTable) return;\n",
              "\n",
              "          const docLinkHtml = 'Like what you see? Visit the ' +\n",
              "            '<a target=\"_blank\" href=https://colab.research.google.com/notebooks/data_table.ipynb>data table notebook</a>'\n",
              "            + ' to learn more about interactive tables.';\n",
              "          element.innerHTML = '';\n",
              "          dataTable['output_type'] = 'display_data';\n",
              "          await google.colab.output.renderOutput(dataTable, element);\n",
              "          const docLink = document.createElement('div');\n",
              "          docLink.innerHTML = docLinkHtml;\n",
              "          element.appendChild(docLink);\n",
              "        }\n",
              "      </script>\n",
              "    </div>\n",
              "  </div>\n",
              "  "
            ]
          },
          "metadata": {},
          "execution_count": 9
        }
      ]
    },
    {
      "cell_type": "code",
      "source": [
        "data.drop('Adj Close',axis=1, inplace=True)"
      ],
      "metadata": {
        "id": "6HsfzMUq9IwL"
      },
      "execution_count": 10,
      "outputs": []
    },
    {
      "cell_type": "code",
      "source": [
        "data.isnull().sum()"
      ],
      "metadata": {
        "colab": {
          "base_uri": "https://localhost:8080/"
        },
        "id": "A6qOf-yO8rZl",
        "outputId": "f107825c-7786-4be9-baed-88f4f722ddf7"
      },
      "execution_count": 11,
      "outputs": [
        {
          "output_type": "execute_result",
          "data": {
            "text/plain": [
              "Date      0\n",
              "Open      0\n",
              "High      0\n",
              "Low       0\n",
              "Close     0\n",
              "Volume    0\n",
              "dtype: int64"
            ]
          },
          "metadata": {},
          "execution_count": 11
        }
      ]
    },
    {
      "cell_type": "code",
      "source": [
        "data['Open'].plot(figsize=(15,8))"
      ],
      "metadata": {
        "colab": {
          "base_uri": "https://localhost:8080/",
          "height": 500
        },
        "id": "ZEzSeuy29GUY",
        "outputId": "f78909fc-0d60-40f2-e009-626edc85c4ed"
      },
      "execution_count": 12,
      "outputs": [
        {
          "output_type": "execute_result",
          "data": {
            "text/plain": [
              "<matplotlib.axes._subplots.AxesSubplot at 0x7f183839b220>"
            ]
          },
          "metadata": {},
          "execution_count": 12
        },
        {
          "output_type": "display_data",
          "data": {
            "text/plain": [
              "<Figure size 1080x576 with 1 Axes>"
            ],
            "image/png": "[encoded data removed]"
          },
          "metadata": {
            "needs_background": "light"
          }
        }
      ]
    },
    {
      "cell_type": "code",
      "source": [
        "data['Close'].plot(figsize=(15,8))"
      ],
      "metadata": {
        "colab": {
          "base_uri": "https://localhost:8080/",
          "height": 500
        },
        "id": "0RqtRAhP908D",
        "outputId": "5cdddfc4-e09c-44a2-e190-78b286e52328"
      },
      "execution_count": 13,
      "outputs": [
        {
          "output_type": "execute_result",
          "data": {
            "text/plain": [
              "<matplotlib.axes._subplots.AxesSubplot at 0x7f1838355cd0>"
            ]
          },
          "metadata": {},
          "execution_count": 13
        },
        {
          "output_type": "display_data",
          "data": {
            "text/plain": [
              "<Figure size 1080x576 with 1 Axes>"
            ],
            "image/png": "[encoded data removed]"
          },
          "metadata": {
            "needs_background": "light"
          }
        }
      ]
    },
    {
      "cell_type": "code",
      "source": [
        "X_train=data.drop(['Close','Date'],axis=1)"
      ],
      "metadata": {
        "id": "ZiqrnFM9-VpW"
      },
      "execution_count": 14,
      "outputs": []
    },
    {
      "cell_type": "code",
      "source": [
        "y_train=data['Close']"
      ],
      "metadata": {
        "id": "q9qnjZV--kuK"
      },
      "execution_count": 15,
      "outputs": []
    },
    {
      "cell_type": "code",
      "source": [
        "X_train"
      ],
      "metadata": {
        "colab": {
          "base_uri": "https://localhost:8080/",
          "height": 423
        },
        "id": "C9ZXpRL8-63C",
        "outputId": "e7e969a1-a08b-47c0-cee1-f73bbd4eb3ef"
      },
      "execution_count": 16,
      "outputs": [
        {
          "output_type": "execute_result",
          "data": {
            "text/plain": [
              "            Open        High         Low    Volume\n",
              "0     313.149994  316.899994  311.000000  23600898\n",
              "1     312.049988  318.850006  311.000000  25810404\n",
              "2     313.000000  316.600006  307.850006  16409938\n",
              "3     316.899994  317.399994  305.000000  19515991\n",
              "4     302.899994  305.750000  295.500000  23274673\n",
              "...          ...         ...         ...       ...\n",
              "1231  593.799988  596.599976  590.799988   6750607\n",
              "1232  598.500000  601.750000  592.950012   6604469\n",
              "1233  603.500000  604.599976  593.049988   7609623\n",
              "1234  595.849976  595.849976  567.400024  25686294\n",
              "1235  568.000000  568.549988  532.250000  40163464\n",
              "\n",
              "[1236 rows x 4 columns]"
            ],
            "text/html": [
              "\n",
              "  <div id=\"df-a9f72c1b-9369-4433-b143-e1773749e770\">\n",
              "    <div class=\"colab-df-container\">\n",
              "      <div>\n",
              "<style scoped>\n",
              "    .dataframe tbody tr th:only-of-type {\n",
              "        vertical-align: middle;\n",
              "    }\n",
              "\n",
              "    .dataframe tbody tr th {\n",
              "        vertical-align: top;\n",
              "    }\n",
              "\n",
              "    .dataframe thead th {\n",
              "        text-align: right;\n",
              "    }\n",
              "</style>\n",
              "<table border=\"1\" class=\"dataframe\">\n",
              "  <thead>\n",
              "    <tr style=\"text-align: right;\">\n",
              "      <th></th>\n",
              "      <th>Open</th>\n",
              "      <th>High</th>\n",
              "      <th>Low</th>\n",
              "      <th>Volume</th>\n",
              "    </tr>\n",
              "  </thead>\n",
              "  <tbody>\n",
              "    <tr>\n",
              "      <th>0</th>\n",
              "      <td>313.149994</td>\n",
              "      <td>316.899994</td>\n",
              "      <td>311.000000</td>\n",
              "      <td>23600898</td>\n",
              "    </tr>\n",
              "    <tr>\n",
              "      <th>1</th>\n",
              "      <td>312.049988</td>\n",
              "      <td>318.850006</td>\n",
              "      <td>311.000000</td>\n",
              "      <td>25810404</td>\n",
              "    </tr>\n",
              "    <tr>\n",
              "      <th>2</th>\n",
              "      <td>313.000000</td>\n",
              "      <td>316.600006</td>\n",
              "      <td>307.850006</td>\n",
              "      <td>16409938</td>\n",
              "    </tr>\n",
              "    <tr>\n",
              "      <th>3</th>\n",
              "      <td>316.899994</td>\n",
              "      <td>317.399994</td>\n",
              "      <td>305.000000</td>\n",
              "      <td>19515991</td>\n",
              "    </tr>\n",
              "    <tr>\n",
              "      <th>4</th>\n",
              "      <td>302.899994</td>\n",
              "      <td>305.750000</td>\n",
              "      <td>295.500000</td>\n",
              "      <td>23274673</td>\n",
              "    </tr>\n",
              "    <tr>\n",
              "      <th>...</th>\n",
              "      <td>...</td>\n",
              "      <td>...</td>\n",
              "      <td>...</td>\n",
              "      <td>...</td>\n",
              "    </tr>\n",
              "    <tr>\n",
              "      <th>1231</th>\n",
              "      <td>593.799988</td>\n",
              "      <td>596.599976</td>\n",
              "      <td>590.799988</td>\n",
              "      <td>6750607</td>\n",
              "    </tr>\n",
              "    <tr>\n",
              "      <th>1232</th>\n",
              "      <td>598.500000</td>\n",
              "      <td>601.750000</td>\n",
              "      <td>592.950012</td>\n",
              "      <td>6604469</td>\n",
              "    </tr>\n",
              "    <tr>\n",
              "      <th>1233</th>\n",
              "      <td>603.500000</td>\n",
              "      <td>604.599976</td>\n",
              "      <td>593.049988</td>\n",
              "      <td>7609623</td>\n",
              "    </tr>\n",
              "    <tr>\n",
              "      <th>1234</th>\n",
              "      <td>595.849976</td>\n",
              "      <td>595.849976</td>\n",
              "      <td>567.400024</td>\n",
              "      <td>25686294</td>\n",
              "    </tr>\n",
              "    <tr>\n",
              "      <th>1235</th>\n",
              "      <td>568.000000</td>\n",
              "      <td>568.549988</td>\n",
              "      <td>532.250000</td>\n",
              "      <td>40163464</td>\n",
              "    </tr>\n",
              "  </tbody>\n",
              "</table>\n",
              "<p>1236 rows × 4 columns</p>\n",
              "</div>\n",
              "      <button class=\"colab-df-convert\" onclick=\"convertToInteractive('df-a9f72c1b-9369-4433-b143-e1773749e770')\"\n",
              "              title=\"Convert this dataframe to an interactive table.\"\n",
              "              style=\"display:none;\">\n",
              "        \n",
              "  <svg xmlns=\"http://www.w3.org/2000/svg\" height=\"24px\"viewBox=\"0 0 24 24\"\n",
              "       width=\"24px\">\n",
              "    <path d=\"M0 0h24v24H0V0z\" fill=\"none\"/>\n",
              "    <path d=\"M18.56 5.44l.94 2.06.94-2.06 2.06-.94-2.06-.94-.94-2.06-.94 2.06-2.06.94zm-11 1L8.5 8.5l.94-2.06 2.06-.94-2.06-.94L8.5 2.5l-.94 2.06-2.06.94zm10 10l.94 2.06.94-2.06 2.06-.94-2.06-.94-.94-2.06-.94 2.06-2.06.94z\"/><path d=\"M17.41 7.96l-1.37-1.37c-.4-.4-.92-.59-1.43-.59-.52 0-1.04.2-1.43.59L10.3 9.45l-7.72 7.72c-.78.78-.78 2.05 0 2.83L4 21.41c.39.39.9.59 1.41.59.51 0 1.02-.2 1.41-.59l7.78-7.78 2.81-2.81c.8-.78.8-2.07 0-2.86zM5.41 20L4 18.59l7.72-7.72 1.47 1.35L5.41 20z\"/>\n",
              "  </svg>\n",
              "      </button>\n",
              "      \n",
              "  <style>\n",
              "    .colab-df-container {\n",
              "      display:flex;\n",
              "      flex-wrap:wrap;\n",
              "      gap: 12px;\n",
              "    }\n",
              "\n",
              "    .colab-df-convert {\n",
              "      background-color: #E8F0FE;\n",
              "      border: none;\n",
              "      border-radius: 50%;\n",
              "      cursor: pointer;\n",
              "      display: none;\n",
              "      fill: #1967D2;\n",
              "      height: 32px;\n",
              "      padding: 0 0 0 0;\n",
              "      width: 32px;\n",
              "    }\n",
              "\n",
              "    .colab-df-convert:hover {\n",
              "      background-color: #E2EBFA;\n",
              "      box-shadow: 0px 1px 2px rgba(60, 64, 67, 0.3), 0px 1px 3px 1px rgba(60, 64, 67, 0.15);\n",
              "      fill: #174EA6;\n",
              "    }\n",
              "\n",
              "    [theme=dark] .colab-df-convert {\n",
              "      background-color: #3B4455;\n",
              "      fill: #D2E3FC;\n",
              "    }\n",
              "\n",
              "    [theme=dark] .colab-df-convert:hover {\n",
              "      background-color: #434B5C;\n",
              "      box-shadow: 0px 1px 3px 1px rgba(0, 0, 0, 0.15);\n",
              "      filter: drop-shadow(0px 1px 2px rgba(0, 0, 0, 0.3));\n",
              "      fill: #FFFFFF;\n",
              "    }\n",
              "  </style>\n",
              "\n",
              "      <script>\n",
              "        const buttonEl =\n",
              "          document.querySelector('#df-a9f72c1b-9369-4433-b143-e1773749e770 button.colab-df-convert');\n",
              "        buttonEl.style.display =\n",
              "          google.colab.kernel.accessAllowed ? 'block' : 'none';\n",
              "\n",
              "        async function convertToInteractive(key) {\n",
              "          const element = document.querySelector('#df-a9f72c1b-9369-4433-b143-e1773749e770');\n",
              "          const dataTable =\n",
              "            await google.colab.kernel.invokeFunction('convertToInteractive',\n",
              "                                                     [key], {});\n",
              "          if (!dataTable) return;\n",
              "\n",
              "          const docLinkHtml = 'Like what you see? Visit the ' +\n",
              "            '<a target=\"_blank\" href=https://colab.research.google.com/notebooks/data_table.ipynb>data table notebook</a>'\n",
              "            + ' to learn more about interactive tables.';\n",
              "          element.innerHTML = '';\n",
              "          dataTable['output_type'] = 'display_data';\n",
              "          await google.colab.output.renderOutput(dataTable, element);\n",
              "          const docLink = document.createElement('div');\n",
              "          docLink.innerHTML = docLinkHtml;\n",
              "          element.appendChild(docLink);\n",
              "        }\n",
              "      </script>\n",
              "    </div>\n",
              "  </div>\n",
              "  "
            ]
          },
          "metadata": {},
          "execution_count": 16
        }
      ]
    },
    {
      "cell_type": "code",
      "source": [
        "y_train"
      ],
      "metadata": {
        "colab": {
          "base_uri": "https://localhost:8080/"
        },
        "id": "yuPDPaCR--g4",
        "outputId": "d0604e60-2b74-41db-a0ac-9c623f48263a"
      },
      "execution_count": 17,
      "outputs": [
        {
          "output_type": "execute_result",
          "data": {
            "text/plain": [
              "0       312.100006\n",
              "1       313.549988\n",
              "2       313.250000\n",
              "3       306.049988\n",
              "4       297.350006\n",
              "           ...    \n",
              "1231    592.200012\n",
              "1232    600.450012\n",
              "1233    594.349976\n",
              "1234    568.700012\n",
              "1235    539.950012\n",
              "Name: Close, Length: 1236, dtype: float64"
            ]
          },
          "metadata": {},
          "execution_count": 17
        }
      ]
    },
    {
      "cell_type": "code",
      "source": [
        "from sklearn.model_selection import train_test_split\n",
        "\n",
        "X_Train,X_test,y_Train, y_test=train_test_split(X_train,y_train,test_size=0.3,random_state=0)\n"
      ],
      "metadata": {
        "id": "oqtOyBL1_BWh"
      },
      "execution_count": 18,
      "outputs": []
    },
    {
      "cell_type": "code",
      "source": [
        "X_Train.shape"
      ],
      "metadata": {
        "colab": {
          "base_uri": "https://localhost:8080/"
        },
        "id": "CNJQmapxAwK8",
        "outputId": "6a426673-0d82-4f5c-f3d6-3106c4fcf57d"
      },
      "execution_count": 19,
      "outputs": [
        {
          "output_type": "execute_result",
          "data": {
            "text/plain": [
              "(865, 4)"
            ]
          },
          "metadata": {},
          "execution_count": 19
        }
      ]
    },
    {
      "cell_type": "code",
      "source": [
        "X_test.shape"
      ],
      "metadata": {
        "colab": {
          "base_uri": "https://localhost:8080/"
        },
        "id": "HS0caWzfA0Sp",
        "outputId": "d7b75b9d-202b-4505-f3f7-8953dd9b2c16"
      },
      "execution_count": 20,
      "outputs": [
        {
          "output_type": "execute_result",
          "data": {
            "text/plain": [
              "(371, 4)"
            ]
          },
          "metadata": {},
          "execution_count": 20
        }
      ]
    },
    {
      "cell_type": "code",
      "source": [
        "from sklearn.linear_model import LinearRegression\n",
        "from sklearn.metrics import confusion_matrix,accuracy_score\n",
        "model=LinearRegression()"
      ],
      "metadata": {
        "id": "oeA7fYlt_Sxr"
      },
      "execution_count": 21,
      "outputs": []
    },
    {
      "cell_type": "code",
      "source": [],
      "metadata": {
        "id": "MZLmiwWsAvHL"
      },
      "execution_count": 21,
      "outputs": []
    },
    {
      "cell_type": "code",
      "source": [
        "model.fit(X_Train,y_Train)"
      ],
      "metadata": {
        "colab": {
          "base_uri": "https://localhost:8080/"
        },
        "id": "MR1DHI32_36f",
        "outputId": "856efa5d-3f67-4456-8fe8-d0f8f96f9d59"
      },
      "execution_count": 22,
      "outputs": [
        {
          "output_type": "execute_result",
          "data": {
            "text/plain": [
              "LinearRegression()"
            ]
          },
          "metadata": {},
          "execution_count": 22
        }
      ]
    },
    {
      "cell_type": "code",
      "source": [
        "from numpy.lib.function_base import cov\n",
        "cov(X_train)"
      ],
      "metadata": {
        "colab": {
          "base_uri": "https://localhost:8080/"
        },
        "id": "ya6AIU89AF5B",
        "outputId": "8bca4e2e-1954-499e-ef40-13b8d5994598"
      },
      "execution_count": 23,
      "outputs": [
        {
          "output_type": "execute_result",
          "data": {
            "text/plain": [
              "array([[1.39246895e+14, 1.52283302e+14, 9.68191877e+13, ...,\n",
              "        4.48943450e+13, 1.51549427e+14, 2.36967023e+14],\n",
              "       [1.52283302e+14, 1.66540187e+14, 1.05883478e+14, ...,\n",
              "        4.90973897e+13, 1.65737607e+14, 2.59152066e+14],\n",
              "       [9.68191877e+13, 1.05883478e+14, 6.73189524e+13, ...,\n",
              "        3.12153029e+13, 1.05373211e+14, 1.64764569e+14],\n",
              "       ...,\n",
              "       [4.48943450e+13, 4.90973897e+13, 3.12153029e+13, ...,\n",
              "        1.44743063e+13, 4.88607826e+13, 7.64001183e+13],\n",
              "       [1.51549427e+14, 1.65737607e+14, 1.05373211e+14, ...,\n",
              "        4.88607826e+13, 1.64938894e+14, 2.57903176e+14],\n",
              "       [2.36967023e+14, 2.59152066e+14, 1.64764569e+14, ...,\n",
              "        7.64001183e+13, 2.57903176e+14, 4.03264789e+14]])"
            ]
          },
          "metadata": {},
          "execution_count": 23
        }
      ]
    },
    {
      "cell_type": "code",
      "source": [
        "model.coef_"
      ],
      "metadata": {
        "colab": {
          "base_uri": "https://localhost:8080/"
        },
        "id": "Ht9P5tAmCeu5",
        "outputId": "f00bf458-a68a-4bc3-a641-eaeecc494454"
      },
      "execution_count": 24,
      "outputs": [
        {
          "output_type": "execute_result",
          "data": {
            "text/plain": [
              "array([-6.08401139e-01,  8.22945509e-01,  7.85696760e-01,  1.31434308e-10])"
            ]
          },
          "metadata": {},
          "execution_count": 24
        }
      ]
    },
    {
      "cell_type": "code",
      "source": [
        "model.intercept_"
      ],
      "metadata": {
        "colab": {
          "base_uri": "https://localhost:8080/"
        },
        "id": "QAIZFMsmCvr2",
        "outputId": "78566adb-93ae-4709-a491-70ffa422a358"
      },
      "execution_count": 25,
      "outputs": [
        {
          "output_type": "execute_result",
          "data": {
            "text/plain": [
              "-0.2589168983195691"
            ]
          },
          "metadata": {},
          "execution_count": 25
        }
      ]
    },
    {
      "cell_type": "code",
      "source": [
        "#to predict\n",
        "predic=model.predict(X_test)"
      ],
      "metadata": {
        "id": "2Kt7t9TmDCMz"
      },
      "execution_count": 26,
      "outputs": []
    },
    {
      "cell_type": "code",
      "source": [
        "predic"
      ],
      "metadata": {
        "colab": {
          "base_uri": "https://localhost:8080/"
        },
        "id": "PDK_qK2vDhyP",
        "outputId": "c4fc692a-1fa6-4289-840d-9c9d1436c8cd"
      },
      "execution_count": 27,
      "outputs": [
        {
          "output_type": "execute_result",
          "data": {
            "text/plain": [
              "array([448.03052328, 290.64781472, 531.08935991, 329.19231592,\n",
              "       192.95012988, 275.59869132, 267.70208626, 471.09707181,\n",
              "       286.00731154, 351.06952478, 476.97514379, 227.90906695,\n",
              "       296.75986925, 554.27829858, 308.78963508, 257.16693686,\n",
              "       505.85990675, 539.60116106, 247.46638319, 273.3383355 ,\n",
              "       606.07224762, 177.86658501, 319.52494258, 520.1258665 ,\n",
              "       299.22122236, 602.84090526, 282.9684464 , 238.58788019,\n",
              "       427.69168719, 248.33769994, 249.21698068, 486.57589492,\n",
              "       191.27455972, 286.61867134, 332.27760002, 390.75909433,\n",
              "       240.66323519, 494.26587524, 264.82142074, 299.97180047,\n",
              "       426.38097131, 310.46747114, 316.64078022, 575.92574635,\n",
              "       499.57404834, 512.53690137, 290.21205392, 152.74825777,\n",
              "       333.10055213, 218.94391484, 425.87579439, 603.55262546,\n",
              "       288.62839479, 202.79120478, 252.76027382, 489.71289268,\n",
              "       317.23081303, 402.97900083, 353.46182645, 281.06862227,\n",
              "       468.76120176, 431.96952034, 290.79906656, 276.59130766,\n",
              "       570.54024184, 490.03593532, 330.69448911, 187.26956417,\n",
              "       450.57057267, 260.05618418, 199.79467946, 458.36997844,\n",
              "       307.24316725, 276.57755514, 418.16557583, 268.88569223,\n",
              "       305.44087371, 335.23051093, 283.64937303, 262.83126406,\n",
              "       543.95541816, 322.61770922, 419.15724316, 495.18623628,\n",
              "       505.75508856, 264.3909112 , 190.16969776, 513.05078592,\n",
              "       331.6570452 , 293.16966338, 518.02268125, 474.57303199,\n",
              "       276.16046524, 192.02284863, 317.33611801, 229.19947911,\n",
              "       434.46840572, 314.8830217 , 303.35596042, 395.08837492,\n",
              "       187.85184233, 540.39643436, 207.97619394, 280.94123683,\n",
              "       459.15667326, 242.60924495, 333.9147963 , 225.60435447,\n",
              "       195.29305559, 190.2852385 , 256.20244372, 431.06648399,\n",
              "       267.84170318, 379.82659736, 474.48546265, 288.1877183 ,\n",
              "       506.93699702, 313.63092267, 447.3174453 , 292.0301495 ,\n",
              "       337.97678367, 302.59798048, 423.2265644 , 300.99782229,\n",
              "       206.1559649 , 527.10241137, 383.56990152, 345.82246713,\n",
              "       510.89187081, 411.87730489, 590.49715115, 480.68554605,\n",
              "       502.09045741, 428.4246849 , 511.18174999, 392.30809653,\n",
              "       194.38901464, 179.63716885, 286.45328894, 276.17770201,\n",
              "       188.8087658 , 284.69644723, 340.29816201, 296.63960771,\n",
              "       309.79885926, 571.87943885, 599.6725967 , 532.28084801,\n",
              "       304.51951599, 269.28168211, 328.59487835, 466.79591753,\n",
              "       358.04851224, 293.59323212, 281.97081838, 540.62368298,\n",
              "       339.50476755, 204.45215048, 339.08432654, 184.53664187,\n",
              "       164.89656405, 528.53077256, 606.70630265, 179.33857271,\n",
              "       312.63189484, 183.47013817, 326.41306613, 287.46021828,\n",
              "       533.74210778, 522.62179513, 184.9867273 , 249.91866957,\n",
              "       390.47778183, 483.47452261, 488.84039779, 189.21073255,\n",
              "       284.35965233, 357.8961365 , 319.2639599 , 339.62174936,\n",
              "       369.68366832, 466.95645553, 550.56161318, 194.95916215,\n",
              "       449.17622428, 447.05100138, 432.74803522, 268.98585519,\n",
              "       494.42946274, 253.18071879, 453.59862893, 460.64733991,\n",
              "       370.91344612, 326.80796657, 468.59084617, 353.43115801,\n",
              "       403.35882898, 274.14654793, 541.84127471, 503.34129909,\n",
              "       258.01557295, 496.34481622, 273.24733866, 179.86552851,\n",
              "       309.53013245, 186.04577319, 197.98732521, 286.69501155,\n",
              "       238.04689621, 612.68277366, 252.93157501, 274.71233537,\n",
              "       173.04600431, 290.47325113, 420.48181918, 319.18664405,\n",
              "       420.71629867, 502.96655186, 366.04490979, 388.2592094 ,\n",
              "       364.50627854, 183.91979926, 270.02161609, 295.93392404,\n",
              "       369.98868186, 455.07310934, 360.40379372, 517.78384581,\n",
              "       253.15378459, 318.63511658, 495.7640873 , 289.04682518,\n",
              "       332.39510143, 304.68071995, 308.91899513, 159.50666531,\n",
              "       281.42949983, 449.26346868, 254.79040784, 483.53641697,\n",
              "       241.15571084, 296.80626085, 277.49388602, 257.90999515,\n",
              "       185.48721295, 470.37328776, 487.27721885, 324.91285455,\n",
              "       481.2587544 , 427.7329579 , 354.23940193, 201.00066603,\n",
              "       316.10542175, 170.42625446, 342.18398218, 519.16645991,\n",
              "       524.33400767, 336.98518607, 543.23684473, 590.29367409,\n",
              "       409.4782532 , 184.365988  , 420.86075839, 505.38312393,\n",
              "       269.78973533, 485.52857726, 268.54967288, 445.35645627,\n",
              "       494.56899859, 284.49018976, 461.59241367, 257.8306188 ,\n",
              "       321.35807698, 243.37942258, 300.47672503, 246.87658166,\n",
              "       301.99049706, 204.26098455, 534.54178691, 203.28760821,\n",
              "       523.64411855, 266.04640435, 460.541584  , 365.81444844,\n",
              "       533.05361422, 470.69786302, 337.82362927, 183.78355078,\n",
              "       461.68250352, 194.170144  , 318.92663873, 292.19310356,\n",
              "       270.160063  , 268.32703864, 331.12879686, 280.76348977,\n",
              "       213.83018982, 194.06046311, 269.95232621, 491.43890704,\n",
              "       280.12885229, 459.08244044, 493.81538659, 604.30291174,\n",
              "       395.82118147, 181.23884275, 169.09710401, 299.03397729,\n",
              "       460.50412321, 364.57344192, 429.51909999, 272.63440006,\n",
              "       255.04455595, 469.71212003, 464.01684964, 284.17397838,\n",
              "       268.98613102, 248.60181094, 615.46089448, 603.96058433,\n",
              "       472.71236042, 462.34283807, 182.98290272, 538.67556657,\n",
              "       262.68477306, 315.22155391, 264.62888675, 270.53699382,\n",
              "       266.6133346 , 202.71677361, 423.99097622, 333.26697416,\n",
              "       424.88815896, 433.88507781, 270.29925934, 497.81636656,\n",
              "       407.05324895, 405.74437561, 201.49841703, 190.96315929,\n",
              "       258.77767834, 272.74557909, 312.66936875, 321.61002301,\n",
              "       464.14726963, 512.91520632, 311.73498882, 329.34504087,\n",
              "       340.98421112, 405.76433663, 249.92551455, 363.83390864,\n",
              "       523.47274793, 330.70445652, 524.1790562 , 441.82260739,\n",
              "       573.57711336, 319.92518244, 297.56551782, 261.26502468,\n",
              "       525.60857365, 500.50792839, 256.4551553 , 596.70023282,\n",
              "       500.97863436, 465.80499286, 446.94066669, 485.47115217,\n",
              "       475.86144536, 287.96721867, 329.9161773 ])"
            ]
          },
          "metadata": {},
          "execution_count": 27
        }
      ]
    },
    {
      "cell_type": "code",
      "source": [
        "X_test"
      ],
      "metadata": {
        "colab": {
          "base_uri": "https://localhost:8080/",
          "height": 423
        },
        "id": "1JblsMmUDrfi",
        "outputId": "096505de-ea00-4a38-e4ce-337d972e1b8a"
      },
      "execution_count": 28,
      "outputs": [
        {
          "output_type": "execute_result",
          "data": {
            "text/plain": [
              "            Open        High         Low    Volume\n",
              "960   457.049988  458.250000  444.500000  16617447\n",
              "152   295.899994  295.899994  289.450012  23716678\n",
              "1156  533.000000  535.799988  527.799988   8745887\n",
              "501   322.000000  330.950012  322.000000  62516057\n",
              "625   198.449997  198.649994  191.500000  54787889\n",
              "...          ...         ...         ...       ...\n",
              "903   449.200012  455.799988  439.600006  19241170\n",
              "1096  484.000000  488.250000  481.600006  11497832\n",
              "948   475.750000  481.500000  470.049988  16653993\n",
              "200   283.450012  289.549988  283.049988  16167419\n",
              "442   329.250000  332.850006  326.549988  34116162\n",
              "\n",
              "[371 rows x 4 columns]"
            ],
            "text/html": [
              "\n",
              "  <div id=\"df-8c07c634-cdbd-4bc3-af98-e2f852efc7fd\">\n",
              "    <div class=\"colab-df-container\">\n",
              "      <div>\n",
              "<style scoped>\n",
              "    .dataframe tbody tr th:only-of-type {\n",
              "        vertical-align: middle;\n",
              "    }\n",
              "\n",
              "    .dataframe tbody tr th {\n",
              "        vertical-align: top;\n",
              "    }\n",
              "\n",
              "    .dataframe thead th {\n",
              "        text-align: right;\n",
              "    }\n",
              "</style>\n",
              "<table border=\"1\" class=\"dataframe\">\n",
              "  <thead>\n",
              "    <tr style=\"text-align: right;\">\n",
              "      <th></th>\n",
              "      <th>Open</th>\n",
              "      <th>High</th>\n",
              "      <th>Low</th>\n",
              "      <th>Volume</th>\n",
              "    </tr>\n",
              "  </thead>\n",
              "  <tbody>\n",
              "    <tr>\n",
              "      <th>960</th>\n",
              "      <td>457.049988</td>\n",
              "      <td>458.250000</td>\n",
              "      <td>444.500000</td>\n",
              "      <td>16617447</td>\n",
              "    </tr>\n",
              "    <tr>\n",
              "      <th>152</th>\n",
              "      <td>295.899994</td>\n",
              "      <td>295.899994</td>\n",
              "      <td>289.450012</td>\n",
              "      <td>23716678</td>\n",
              "    </tr>\n",
              "    <tr>\n",
              "      <th>1156</th>\n",
              "      <td>533.000000</td>\n",
              "      <td>535.799988</td>\n",
              "      <td>527.799988</td>\n",
              "      <td>8745887</td>\n",
              "    </tr>\n",
              "    <tr>\n",
              "      <th>501</th>\n",
              "      <td>322.000000</td>\n",
              "      <td>330.950012</td>\n",
              "      <td>322.000000</td>\n",
              "      <td>62516057</td>\n",
              "    </tr>\n",
              "    <tr>\n",
              "      <th>625</th>\n",
              "      <td>198.449997</td>\n",
              "      <td>198.649994</td>\n",
              "      <td>191.500000</td>\n",
              "      <td>54787889</td>\n",
              "    </tr>\n",
              "    <tr>\n",
              "      <th>...</th>\n",
              "      <td>...</td>\n",
              "      <td>...</td>\n",
              "      <td>...</td>\n",
              "      <td>...</td>\n",
              "    </tr>\n",
              "    <tr>\n",
              "      <th>903</th>\n",
              "      <td>449.200012</td>\n",
              "      <td>455.799988</td>\n",
              "      <td>439.600006</td>\n",
              "      <td>19241170</td>\n",
              "    </tr>\n",
              "    <tr>\n",
              "      <th>1096</th>\n",
              "      <td>484.000000</td>\n",
              "      <td>488.250000</td>\n",
              "      <td>481.600006</td>\n",
              "      <td>11497832</td>\n",
              "    </tr>\n",
              "    <tr>\n",
              "      <th>948</th>\n",
              "      <td>475.750000</td>\n",
              "      <td>481.500000</td>\n",
              "      <td>470.049988</td>\n",
              "      <td>16653993</td>\n",
              "    </tr>\n",
              "    <tr>\n",
              "      <th>200</th>\n",
              "      <td>283.450012</td>\n",
              "      <td>289.549988</td>\n",
              "      <td>283.049988</td>\n",
              "      <td>16167419</td>\n",
              "    </tr>\n",
              "    <tr>\n",
              "      <th>442</th>\n",
              "      <td>329.250000</td>\n",
              "      <td>332.850006</td>\n",
              "      <td>326.549988</td>\n",
              "      <td>34116162</td>\n",
              "    </tr>\n",
              "  </tbody>\n",
              "</table>\n",
              "<p>371 rows × 4 columns</p>\n",
              "</div>\n",
              "      <button class=\"colab-df-convert\" onclick=\"convertToInteractive('df-8c07c634-cdbd-4bc3-af98-e2f852efc7fd')\"\n",
              "              title=\"Convert this dataframe to an interactive table.\"\n",
              "              style=\"display:none;\">\n",
              "        \n",
              "  <svg xmlns=\"http://www.w3.org/2000/svg\" height=\"24px\"viewBox=\"0 0 24 24\"\n",
              "       width=\"24px\">\n",
              "    <path d=\"M0 0h24v24H0V0z\" fill=\"none\"/>\n",
              "    <path d=\"M18.56 5.44l.94 2.06.94-2.06 2.06-.94-2.06-.94-.94-2.06-.94 2.06-2.06.94zm-11 1L8.5 8.5l.94-2.06 2.06-.94-2.06-.94L8.5 2.5l-.94 2.06-2.06.94zm10 10l.94 2.06.94-2.06 2.06-.94-2.06-.94-.94-2.06-.94 2.06-2.06.94z\"/><path d=\"M17.41 7.96l-1.37-1.37c-.4-.4-.92-.59-1.43-.59-.52 0-1.04.2-1.43.59L10.3 9.45l-7.72 7.72c-.78.78-.78 2.05 0 2.83L4 21.41c.39.39.9.59 1.41.59.51 0 1.02-.2 1.41-.59l7.78-7.78 2.81-2.81c.8-.78.8-2.07 0-2.86zM5.41 20L4 18.59l7.72-7.72 1.47 1.35L5.41 20z\"/>\n",
              "  </svg>\n",
              "      </button>\n",
              "      \n",
              "  <style>\n",
              "    .colab-df-container {\n",
              "      display:flex;\n",
              "      flex-wrap:wrap;\n",
              "      gap: 12px;\n",
              "    }\n",
              "\n",
              "    .colab-df-convert {\n",
              "      background-color: #E8F0FE;\n",
              "      border: none;\n",
              "      border-radius: 50%;\n",
              "      cursor: pointer;\n",
              "      display: none;\n",
              "      fill: #1967D2;\n",
              "      height: 32px;\n",
              "      padding: 0 0 0 0;\n",
              "      width: 32px;\n",
              "    }\n",
              "\n",
              "    .colab-df-convert:hover {\n",
              "      background-color: #E2EBFA;\n",
              "      box-shadow: 0px 1px 2px rgba(60, 64, 67, 0.3), 0px 1px 3px 1px rgba(60, 64, 67, 0.15);\n",
              "      fill: #174EA6;\n",
              "    }\n",
              "\n",
              "    [theme=dark] .colab-df-convert {\n",
              "      background-color: #3B4455;\n",
              "      fill: #D2E3FC;\n",
              "    }\n",
              "\n",
              "    [theme=dark] .colab-df-convert:hover {\n",
              "      background-color: #434B5C;\n",
              "      box-shadow: 0px 1px 3px 1px rgba(0, 0, 0, 0.15);\n",
              "      filter: drop-shadow(0px 1px 2px rgba(0, 0, 0, 0.3));\n",
              "      fill: #FFFFFF;\n",
              "    }\n",
              "  </style>\n",
              "\n",
              "      <script>\n",
              "        const buttonEl =\n",
              "          document.querySelector('#df-8c07c634-cdbd-4bc3-af98-e2f852efc7fd button.colab-df-convert');\n",
              "        buttonEl.style.display =\n",
              "          google.colab.kernel.accessAllowed ? 'block' : 'none';\n",
              "\n",
              "        async function convertToInteractive(key) {\n",
              "          const element = document.querySelector('#df-8c07c634-cdbd-4bc3-af98-e2f852efc7fd');\n",
              "          const dataTable =\n",
              "            await google.colab.kernel.invokeFunction('convertToInteractive',\n",
              "                                                     [key], {});\n",
              "          if (!dataTable) return;\n",
              "\n",
              "          const docLinkHtml = 'Like what you see? Visit the ' +\n",
              "            '<a target=\"_blank\" href=https://colab.research.google.com/notebooks/data_table.ipynb>data table notebook</a>'\n",
              "            + ' to learn more about interactive tables.';\n",
              "          element.innerHTML = '';\n",
              "          dataTable['output_type'] = 'display_data';\n",
              "          await google.colab.output.renderOutput(dataTable, element);\n",
              "          const docLink = document.createElement('div');\n",
              "          docLink.innerHTML = docLinkHtml;\n",
              "          element.appendChild(docLink);\n",
              "        }\n",
              "      </script>\n",
              "    </div>\n",
              "  </div>\n",
              "  "
            ]
          },
          "metadata": {},
          "execution_count": 28
        }
      ]
    },
    {
      "cell_type": "code",
      "source": [
        "predic.shape"
      ],
      "metadata": {
        "colab": {
          "base_uri": "https://localhost:8080/"
        },
        "id": "buBnqu0EDvPM",
        "outputId": "1aad88b1-1ca7-4efa-e719-45dc0b4ab434"
      },
      "execution_count": 29,
      "outputs": [
        {
          "output_type": "execute_result",
          "data": {
            "text/plain": [
              "(371,)"
            ]
          },
          "metadata": {},
          "execution_count": 29
        }
      ]
    },
    {
      "cell_type": "code",
      "source": [
        "df=pd.DataFrame({'Actual Price':y_test,'Predicted price':predic})"
      ],
      "metadata": {
        "id": "N08cqbsiELqC"
      },
      "execution_count": 30,
      "outputs": []
    },
    {
      "cell_type": "code",
      "source": [
        "df"
      ],
      "metadata": {
        "colab": {
          "base_uri": "https://localhost:8080/",
          "height": 423
        },
        "id": "4c8FFZbEElqY",
        "outputId": "975cf188-6e92-491e-9ca6-001d92ac9082"
      },
      "execution_count": 31,
      "outputs": [
        {
          "output_type": "execute_result",
          "data": {
            "text/plain": [
              "      Actual Price  Predicted price\n",
              "960     446.000000       448.030523\n",
              "152     291.649994       290.647815\n",
              "1156    532.700012       531.089360\n",
              "501     327.450012       329.192316\n",
              "625     193.100006       192.950130\n",
              "...            ...              ...\n",
              "903     444.899994       446.940667\n",
              "1096    486.750000       485.471152\n",
              "948     473.149994       475.861445\n",
              "200     287.049988       287.967219\n",
              "442     331.350006       329.916177\n",
              "\n",
              "[371 rows x 2 columns]"
            ],
            "text/html": [
              "\n",
              "  <div id=\"df-eb3ddeb0-494c-45d1-adef-3da4c9e367fb\">\n",
              "    <div class=\"colab-df-container\">\n",
              "      <div>\n",
              "<style scoped>\n",
              "    .dataframe tbody tr th:only-of-type {\n",
              "        vertical-align: middle;\n",
              "    }\n",
              "\n",
              "    .dataframe tbody tr th {\n",
              "        vertical-align: top;\n",
              "    }\n",
              "\n",
              "    .dataframe thead th {\n",
              "        text-align: right;\n",
              "    }\n",
              "</style>\n",
              "<table border=\"1\" class=\"dataframe\">\n",
              "  <thead>\n",
              "    <tr style=\"text-align: right;\">\n",
              "      <th></th>\n",
              "      <th>Actual Price</th>\n",
              "      <th>Predicted price</th>\n",
              "    </tr>\n",
              "  </thead>\n",
              "  <tbody>\n",
              "    <tr>\n",
              "      <th>960</th>\n",
              "      <td>446.000000</td>\n",
              "      <td>448.030523</td>\n",
              "    </tr>\n",
              "    <tr>\n",
              "      <th>152</th>\n",
              "      <td>291.649994</td>\n",
              "      <td>290.647815</td>\n",
              "    </tr>\n",
              "    <tr>\n",
              "      <th>1156</th>\n",
              "      <td>532.700012</td>\n",
              "      <td>531.089360</td>\n",
              "    </tr>\n",
              "    <tr>\n",
              "      <th>501</th>\n",
              "      <td>327.450012</td>\n",
              "      <td>329.192316</td>\n",
              "    </tr>\n",
              "    <tr>\n",
              "      <th>625</th>\n",
              "      <td>193.100006</td>\n",
              "      <td>192.950130</td>\n",
              "    </tr>\n",
              "    <tr>\n",
              "      <th>...</th>\n",
              "      <td>...</td>\n",
              "      <td>...</td>\n",
              "    </tr>\n",
              "    <tr>\n",
              "      <th>903</th>\n",
              "      <td>444.899994</td>\n",
              "      <td>446.940667</td>\n",
              "    </tr>\n",
              "    <tr>\n",
              "      <th>1096</th>\n",
              "      <td>486.750000</td>\n",
              "      <td>485.471152</td>\n",
              "    </tr>\n",
              "    <tr>\n",
              "      <th>948</th>\n",
              "      <td>473.149994</td>\n",
              "      <td>475.861445</td>\n",
              "    </tr>\n",
              "    <tr>\n",
              "      <th>200</th>\n",
              "      <td>287.049988</td>\n",
              "      <td>287.967219</td>\n",
              "    </tr>\n",
              "    <tr>\n",
              "      <th>442</th>\n",
              "      <td>331.350006</td>\n",
              "      <td>329.916177</td>\n",
              "    </tr>\n",
              "  </tbody>\n",
              "</table>\n",
              "<p>371 rows × 2 columns</p>\n",
              "</div>\n",
              "      <button class=\"colab-df-convert\" onclick=\"convertToInteractive('df-eb3ddeb0-494c-45d1-adef-3da4c9e367fb')\"\n",
              "              title=\"Convert this dataframe to an interactive table.\"\n",
              "              style=\"display:none;\">\n",
              "        \n",
              "  <svg xmlns=\"http://www.w3.org/2000/svg\" height=\"24px\"viewBox=\"0 0 24 24\"\n",
              "       width=\"24px\">\n",
              "    <path d=\"M0 0h24v24H0V0z\" fill=\"none\"/>\n",
              "    <path d=\"M18.56 5.44l.94 2.06.94-2.06 2.06-.94-2.06-.94-.94-2.06-.94 2.06-2.06.94zm-11 1L8.5 8.5l.94-2.06 2.06-.94-2.06-.94L8.5 2.5l-.94 2.06-2.06.94zm10 10l.94 2.06.94-2.06 2.06-.94-2.06-.94-.94-2.06-.94 2.06-2.06.94z\"/><path d=\"M17.41 7.96l-1.37-1.37c-.4-.4-.92-.59-1.43-.59-.52 0-1.04.2-1.43.59L10.3 9.45l-7.72 7.72c-.78.78-.78 2.05 0 2.83L4 21.41c.39.39.9.59 1.41.59.51 0 1.02-.2 1.41-.59l7.78-7.78 2.81-2.81c.8-.78.8-2.07 0-2.86zM5.41 20L4 18.59l7.72-7.72 1.47 1.35L5.41 20z\"/>\n",
              "  </svg>\n",
              "      </button>\n",
              "      \n",
              "  <style>\n",
              "    .colab-df-container {\n",
              "      display:flex;\n",
              "      flex-wrap:wrap;\n",
              "      gap: 12px;\n",
              "    }\n",
              "\n",
              "    .colab-df-convert {\n",
              "      background-color: #E8F0FE;\n",
              "      border: none;\n",
              "      border-radius: 50%;\n",
              "      cursor: pointer;\n",
              "      display: none;\n",
              "      fill: #1967D2;\n",
              "      height: 32px;\n",
              "      padding: 0 0 0 0;\n",
              "      width: 32px;\n",
              "    }\n",
              "\n",
              "    .colab-df-convert:hover {\n",
              "      background-color: #E2EBFA;\n",
              "      box-shadow: 0px 1px 2px rgba(60, 64, 67, 0.3), 0px 1px 3px 1px rgba(60, 64, 67, 0.15);\n",
              "      fill: #174EA6;\n",
              "    }\n",
              "\n",
              "    [theme=dark] .colab-df-convert {\n",
              "      background-color: #3B4455;\n",
              "      fill: #D2E3FC;\n",
              "    }\n",
              "\n",
              "    [theme=dark] .colab-df-convert:hover {\n",
              "      background-color: #434B5C;\n",
              "      box-shadow: 0px 1px 3px 1px rgba(0, 0, 0, 0.15);\n",
              "      filter: drop-shadow(0px 1px 2px rgba(0, 0, 0, 0.3));\n",
              "      fill: #FFFFFF;\n",
              "    }\n",
              "  </style>\n",
              "\n",
              "      <script>\n",
              "        const buttonEl =\n",
              "          document.querySelector('#df-eb3ddeb0-494c-45d1-adef-3da4c9e367fb button.colab-df-convert');\n",
              "        buttonEl.style.display =\n",
              "          google.colab.kernel.accessAllowed ? 'block' : 'none';\n",
              "\n",
              "        async function convertToInteractive(key) {\n",
              "          const element = document.querySelector('#df-eb3ddeb0-494c-45d1-adef-3da4c9e367fb');\n",
              "          const dataTable =\n",
              "            await google.colab.kernel.invokeFunction('convertToInteractive',\n",
              "                                                     [key], {});\n",
              "          if (!dataTable) return;\n",
              "\n",
              "          const docLinkHtml = 'Like what you see? Visit the ' +\n",
              "            '<a target=\"_blank\" href=https://colab.research.google.com/notebooks/data_table.ipynb>data table notebook</a>'\n",
              "            + ' to learn more about interactive tables.';\n",
              "          element.innerHTML = '';\n",
              "          dataTable['output_type'] = 'display_data';\n",
              "          await google.colab.output.renderOutput(dataTable, element);\n",
              "          const docLink = document.createElement('div');\n",
              "          docLink.innerHTML = docLinkHtml;\n",
              "          element.appendChild(docLink);\n",
              "        }\n",
              "      </script>\n",
              "    </div>\n",
              "  </div>\n",
              "  "
            ]
          },
          "metadata": {},
          "execution_count": 31
        }
      ]
    },
    {
      "cell_type": "code",
      "source": [
        "model.score(X_test,y_test)"
      ],
      "metadata": {
        "colab": {
          "base_uri": "https://localhost:8080/"
        },
        "id": "NpUsvsi5FKmn",
        "outputId": "54787c6b-846f-44b2-f2e1-b4e65df49de9"
      },
      "execution_count": 32,
      "outputs": [
        {
          "output_type": "execute_result",
          "data": {
            "text/plain": [
              "0.9995492189106121"
            ]
          },
          "metadata": {},
          "execution_count": 32
        }
      ]
    },
    {
      "cell_type": "code",
      "source": [
        "metrics.mean_absolute_error(y_test,predic)"
      ],
      "metadata": {
        "colab": {
          "base_uri": "https://localhost:8080/"
        },
        "id": "WXks5wAR4Tcd",
        "outputId": "bbf69d0d-a022-42bf-e371-22cc15867d71"
      },
      "execution_count": 33,
      "outputs": [
        {
          "output_type": "execute_result",
          "data": {
            "text/plain": [
              "1.7791185983821662"
            ]
          },
          "metadata": {},
          "execution_count": 33
        }
      ]
    },
    {
      "cell_type": "code",
      "source": [
        "metrics.mean_squared_error(y_test,predic)"
      ],
      "metadata": {
        "colab": {
          "base_uri": "https://localhost:8080/"
        },
        "id": "25ZLrJac4t_m",
        "outputId": "439da841-a4b4-49e0-ec88-1992d19731e6"
      },
      "execution_count": 34,
      "outputs": [
        {
          "output_type": "execute_result",
          "data": {
            "text/plain": [
              "6.2232751844486565"
            ]
          },
          "metadata": {},
          "execution_count": 34
        }
      ]
    },
    {
      "cell_type": "code",
      "source": [
        "import math\n",
        "math.sqrt(metrics.mean_squared_error(y_test,predic))"
      ],
      "metadata": {
        "colab": {
          "base_uri": "https://localhost:8080/"
        },
        "id": "1Wk_6ZKO4_ZN",
        "outputId": "fc6cc045-9224-4e01-d621-131d3d3e04b7"
      },
      "execution_count": 35,
      "outputs": [
        {
          "output_type": "execute_result",
          "data": {
            "text/plain": [
              "2.4946493109149945"
            ]
          },
          "metadata": {},
          "execution_count": 35
        }
      ]
    },
    {
      "cell_type": "code",
      "source": [
        "df.head(20).plot(kind='bar')"
      ],
      "metadata": {
        "colab": {
          "base_uri": "https://localhost:8080/",
          "height": 298
        },
        "id": "AL9mVcbK85Dc",
        "outputId": "39d4df8b-fda6-4e87-fb94-eb3fb803bc2a"
      },
      "execution_count": 36,
      "outputs": [
        {
          "output_type": "execute_result",
          "data": {
            "text/plain": [
              "<matplotlib.axes._subplots.AxesSubplot at 0x7f1837e65370>"
            ]
          },
          "metadata": {},
          "execution_count": 36
        },
        {
          "output_type": "display_data",
          "data": {
            "text/plain": [
              "<Figure size 432x288 with 1 Axes>"
            ],
            "image/png": "[encoded data removed]"
          },
          "metadata": {
            "needs_background": "light"
          }
        }
      ]
    },
    {
      "cell_type": "code",
      "source": [],
      "metadata": {
        "id": "rtaT7Xn29LT1"
      },
      "execution_count": 36,
      "outputs": []
    }
  ]
}